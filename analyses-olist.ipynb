{
 "cells": [
  {
   "cell_type": "code",
   "execution_count": 160,
   "metadata": {},
   "outputs": [],
   "source": [
    "import pandas as pd\n",
    "import numpy as np\n",
    "import matplotlib.pyplot as plt\n",
    "import os"
   ]
  },
  {
   "cell_type": "markdown",
   "metadata": {},
   "source": [
    "## Preparação dos dados"
   ]
  },
  {
   "cell_type": "markdown",
   "metadata": {},
   "source": [
    "### Entendendo as relações entre as tabelas:"
   ]
  },
  {
   "cell_type": "markdown",
   "metadata": {
    "vscode": {
     "languageId": "html"
    }
   },
   "source": [
    "<img src=\"https://i.imgur.com/HRhd2Y0.png\" width=\"600\" height=\"400\">\n",
    "\n",
    "Através do esquema do BD disponibilizado pelo Kaggle, pode-se entender as relações entre as tabelas."
   ]
  },
  {
   "cell_type": "markdown",
   "metadata": {},
   "source": [
    "De acordo com a descrição do dataset no <a href=\"https://www.kaggle.com/datasets/olistbr/brazilian-ecommerce?select=olist_orders_dataset.csv\">kaggle</a>, a principal tabela `olist_orders_dataset` onde é possível obter as demais informações sobre o pedido."
   ]
  },
  {
   "cell_type": "markdown",
   "metadata": {},
   "source": [
    "#### Carregamento dos datasets"
   ]
  },
  {
   "cell_type": "code",
   "execution_count": 161,
   "metadata": {},
   "outputs": [],
   "source": [
    "olist_orders_dataset = pd.read_csv(os.path.join('olist', 'olist_orders_dataset.csv'))\n",
    "olist_order_items_dataset = pd.read_csv(os.path.join('olist', 'olist_order_items_dataset.csv'))\n",
    "olist_customers_dataset = pd.read_csv(os.path.join('olist', 'olist_customers_dataset.csv'))\n",
    "olist_products_dataset = pd.read_csv(os.path.join('olist', 'olist_products_dataset.csv'))\n",
    "olist_sellers_dataset = pd.read_csv(os.path.join('olist', 'olist_sellers_dataset.csv'))\n",
    "olist_order_payments_dataset = pd.read_csv(os.path.join('olist', 'olist_order_payments_dataset.csv'))\n",
    "olist_order_reviews_dataset = pd.read_csv(os.path.join('olist', 'olist_order_reviews_dataset.csv'))\n",
    "product_category_name_translation = pd.read_csv(os.path.join('olist', 'product_category_name_translation.csv'))\n",
    "olist_geolocation_dataset = pd.read_csv(os.path.join('olist', 'olist_geolocation_dataset.csv'))"
   ]
  },
  {
   "cell_type": "markdown",
   "metadata": {},
   "source": [
    "#### Implementação de uma função para verificação de nulidade e duplicidade"
   ]
  },
  {
   "cell_type": "code",
   "execution_count": 162,
   "metadata": {},
   "outputs": [],
   "source": [
    "def verify_duplicate_null(df:pd.DataFrame)->tuple[bool, bool]:\n",
    "    is_null = True if df.isnull().sum().sum() > 0 else False\n",
    "    print(f'Colunas com valores nulos:\\n{df.isnull().sum()}')\n",
    "    is_duplicated =  True if df.duplicated().sum() > 0 else False\n",
    "    print(f'Número de linhas duplicados: {df.duplicated().sum()}')\n",
    "    return is_null, is_duplicated\n"
   ]
  },
  {
   "cell_type": "markdown",
   "metadata": {},
   "source": [
    "### Vamos entender a tabela `olist_orders_dataset`"
   ]
  },
  {
   "cell_type": "code",
   "execution_count": 163,
   "metadata": {},
   "outputs": [
    {
     "name": "stdout",
     "output_type": "stream",
     "text": [
      "<class 'pandas.core.frame.DataFrame'>\n",
      "RangeIndex: 99441 entries, 0 to 99440\n",
      "Data columns (total 8 columns):\n",
      " #   Column                         Non-Null Count  Dtype \n",
      "---  ------                         --------------  ----- \n",
      " 0   order_id                       99441 non-null  object\n",
      " 1   customer_id                    99441 non-null  object\n",
      " 2   order_status                   99441 non-null  object\n",
      " 3   order_purchase_timestamp       99441 non-null  object\n",
      " 4   order_approved_at              99281 non-null  object\n",
      " 5   order_delivered_carrier_date   97658 non-null  object\n",
      " 6   order_delivered_customer_date  96476 non-null  object\n",
      " 7   order_estimated_delivery_date  99441 non-null  object\n",
      "dtypes: object(8)\n",
      "memory usage: 6.1+ MB\n",
      "None\n",
      "Colunas com valores nulos:\n",
      "order_id                            0\n",
      "customer_id                         0\n",
      "order_status                        0\n",
      "order_purchase_timestamp            0\n",
      "order_approved_at                 160\n",
      "order_delivered_carrier_date     1783\n",
      "order_delivered_customer_date    2965\n",
      "order_estimated_delivery_date       0\n",
      "dtype: int64\n",
      "Número de linhas duplicados: 0\n"
     ]
    },
    {
     "data": {
      "text/plain": [
       "(True, False)"
      ]
     },
     "execution_count": 163,
     "metadata": {},
     "output_type": "execute_result"
    }
   ],
   "source": [
    "print(olist_orders_dataset.info())\n",
    "verify_duplicate_null(olist_orders_dataset)"
   ]
  },
  {
   "cell_type": "code",
   "execution_count": 164,
   "metadata": {},
   "outputs": [
    {
     "name": "stdout",
     "output_type": "stream",
     "text": [
      "<class 'pandas.core.frame.DataFrame'>\n",
      "RangeIndex: 99441 entries, 0 to 99440\n",
      "Data columns (total 8 columns):\n",
      " #   Column                         Non-Null Count  Dtype         \n",
      "---  ------                         --------------  -----         \n",
      " 0   order_id                       99441 non-null  object        \n",
      " 1   customer_id                    99441 non-null  object        \n",
      " 2   order_status                   99441 non-null  object        \n",
      " 3   order_purchase_timestamp       99441 non-null  datetime64[ns]\n",
      " 4   order_approved_at              99281 non-null  datetime64[ns]\n",
      " 5   order_delivered_carrier_date   97658 non-null  datetime64[ns]\n",
      " 6   order_delivered_customer_date  96476 non-null  datetime64[ns]\n",
      " 7   order_estimated_delivery_date  99441 non-null  datetime64[ns]\n",
      "dtypes: datetime64[ns](5), object(3)\n",
      "memory usage: 6.1+ MB\n"
     ]
    }
   ],
   "source": [
    "date_columns = [\n",
    "    'order_purchase_timestamp',\n",
    "    'order_approved_at',\n",
    "    'order_delivered_carrier_date',\n",
    "    'order_delivered_customer_date',\n",
    "    'order_estimated_delivery_date'\n",
    "]\n",
    "def transform_str_datetime(df:pd.DataFrame,cols:list)->pd.DataFrame:\n",
    "    for col in cols:\n",
    "        df[col] = pd.to_datetime(df[col])\n",
    "    return df\n",
    "\n",
    "olist_orders_dataset = transform_str_datetime(olist_orders_dataset,date_columns)\n",
    "\n",
    "# Verify the conversion\n",
    "olist_orders_dataset.info()"
   ]
  },
  {
   "cell_type": "markdown",
   "metadata": {},
   "source": [
    "As linhas que contêm colunas nulas envolvem a dimensão temporal, o que é essencial para análise de dados. Então irei remover as linhas que possuam colunas nulas."
   ]
  },
  {
   "cell_type": "code",
   "execution_count": 165,
   "metadata": {},
   "outputs": [
    {
     "name": "stdout",
     "output_type": "stream",
     "text": [
      "<class 'pandas.core.frame.DataFrame'>\n",
      "Index: 96461 entries, 0 to 99440\n",
      "Data columns (total 8 columns):\n",
      " #   Column                         Non-Null Count  Dtype         \n",
      "---  ------                         --------------  -----         \n",
      " 0   order_id                       96461 non-null  object        \n",
      " 1   customer_id                    96461 non-null  object        \n",
      " 2   order_status                   96461 non-null  object        \n",
      " 3   order_purchase_timestamp       96461 non-null  datetime64[ns]\n",
      " 4   order_approved_at              96461 non-null  datetime64[ns]\n",
      " 5   order_delivered_carrier_date   96461 non-null  datetime64[ns]\n",
      " 6   order_delivered_customer_date  96461 non-null  datetime64[ns]\n",
      " 7   order_estimated_delivery_date  96461 non-null  datetime64[ns]\n",
      "dtypes: datetime64[ns](5), object(3)\n",
      "memory usage: 6.6+ MB\n"
     ]
    }
   ],
   "source": [
    "olist_orders_dataset = olist_orders_dataset.dropna()\n",
    "olist_orders_dataset.info()\n"
   ]
  },
  {
   "cell_type": "markdown",
   "metadata": {},
   "source": [
    "### Vamos agora verificar o `olist_order_items_dataset`"
   ]
  },
  {
   "cell_type": "code",
   "execution_count": 166,
   "metadata": {},
   "outputs": [
    {
     "name": "stdout",
     "output_type": "stream",
     "text": [
      "<class 'pandas.core.frame.DataFrame'>\n",
      "RangeIndex: 112650 entries, 0 to 112649\n",
      "Data columns (total 7 columns):\n",
      " #   Column               Non-Null Count   Dtype  \n",
      "---  ------               --------------   -----  \n",
      " 0   order_id             112650 non-null  object \n",
      " 1   order_item_id        112650 non-null  int64  \n",
      " 2   product_id           112650 non-null  object \n",
      " 3   seller_id            112650 non-null  object \n",
      " 4   shipping_limit_date  112650 non-null  object \n",
      " 5   price                112650 non-null  float64\n",
      " 6   freight_value        112650 non-null  float64\n",
      "dtypes: float64(2), int64(1), object(4)\n",
      "memory usage: 6.0+ MB\n",
      "None\n"
     ]
    }
   ],
   "source": [
    "print(olist_order_items_dataset.info())"
   ]
  },
  {
   "cell_type": "code",
   "execution_count": 167,
   "metadata": {},
   "outputs": [
    {
     "name": "stdout",
     "output_type": "stream",
     "text": [
      "Colunas com valores nulos:\n",
      "order_id               0\n",
      "order_item_id          0\n",
      "product_id             0\n",
      "seller_id              0\n",
      "shipping_limit_date    0\n",
      "price                  0\n",
      "freight_value          0\n",
      "dtype: int64\n",
      "Número de linhas duplicados: 0\n"
     ]
    },
    {
     "data": {
      "text/plain": [
       "(False, False)"
      ]
     },
     "execution_count": 167,
     "metadata": {},
     "output_type": "execute_result"
    }
   ],
   "source": [
    "verify_duplicate_null(olist_order_items_dataset)"
   ]
  },
  {
   "cell_type": "code",
   "execution_count": 168,
   "metadata": {},
   "outputs": [],
   "source": [
    "olist_order_items_dataset['shipping_limit_date'] = pd.to_datetime(olist_order_items_dataset['shipping_limit_date'])"
   ]
  },
  {
   "cell_type": "markdown",
   "metadata": {},
   "source": [
    "### Verificação da tabela `olist_order_payments_dataset`"
   ]
  },
  {
   "cell_type": "code",
   "execution_count": 169,
   "metadata": {},
   "outputs": [
    {
     "name": "stdout",
     "output_type": "stream",
     "text": [
      "<class 'pandas.core.frame.DataFrame'>\n",
      "RangeIndex: 103886 entries, 0 to 103885\n",
      "Data columns (total 5 columns):\n",
      " #   Column                Non-Null Count   Dtype  \n",
      "---  ------                --------------   -----  \n",
      " 0   order_id              103886 non-null  object \n",
      " 1   payment_sequential    103886 non-null  int64  \n",
      " 2   payment_type          103886 non-null  object \n",
      " 3   payment_installments  103886 non-null  int64  \n",
      " 4   payment_value         103886 non-null  float64\n",
      "dtypes: float64(1), int64(2), object(2)\n",
      "memory usage: 4.0+ MB\n",
      "Colunas com valores nulos:\n",
      "order_id                0\n",
      "payment_sequential      0\n",
      "payment_type            0\n",
      "payment_installments    0\n",
      "payment_value           0\n",
      "dtype: int64\n",
      "Número de linhas duplicados: 0\n"
     ]
    },
    {
     "data": {
      "text/plain": [
       "(False, False)"
      ]
     },
     "execution_count": 169,
     "metadata": {},
     "output_type": "execute_result"
    }
   ],
   "source": [
    "olist_order_payments_dataset.info()\n",
    "verify_duplicate_null(olist_order_payments_dataset)"
   ]
  },
  {
   "cell_type": "markdown",
   "metadata": {},
   "source": [
    "### Verificação da tabela `olist_order_reviews_dataset`\n"
   ]
  },
  {
   "cell_type": "code",
   "execution_count": 178,
   "metadata": {},
   "outputs": [
    {
     "name": "stdout",
     "output_type": "stream",
     "text": [
      "<class 'pandas.core.frame.DataFrame'>\n",
      "RangeIndex: 99224 entries, 0 to 99223\n",
      "Data columns (total 7 columns):\n",
      " #   Column                   Non-Null Count  Dtype         \n",
      "---  ------                   --------------  -----         \n",
      " 0   review_id                99224 non-null  object        \n",
      " 1   order_id                 99224 non-null  object        \n",
      " 2   review_score             99224 non-null  int64         \n",
      " 3   review_comment_title     99224 non-null  object        \n",
      " 4   review_comment_message   99224 non-null  object        \n",
      " 5   review_creation_date     99224 non-null  datetime64[ns]\n",
      " 6   review_answer_timestamp  99224 non-null  datetime64[ns]\n",
      "dtypes: datetime64[ns](2), int64(1), object(4)\n",
      "memory usage: 5.3+ MB\n",
      "Colunas com valores nulos:\n",
      "review_id                  0\n",
      "order_id                   0\n",
      "review_score               0\n",
      "review_comment_title       0\n",
      "review_comment_message     0\n",
      "review_creation_date       0\n",
      "review_answer_timestamp    0\n",
      "dtype: int64\n",
      "Número de linhas duplicados: 0\n"
     ]
    },
    {
     "data": {
      "text/plain": [
       "(False, False)"
      ]
     },
     "execution_count": 178,
     "metadata": {},
     "output_type": "execute_result"
    }
   ],
   "source": [
    "olist_order_reviews_dataset.info()\n",
    "verify_duplicate_null(olist_order_reviews_dataset)"
   ]
  },
  {
   "cell_type": "markdown",
   "metadata": {},
   "source": [
    "Verificando as linhas com valores nulos."
   ]
  },
  {
   "cell_type": "code",
   "execution_count": 171,
   "metadata": {},
   "outputs": [],
   "source": [
    "#Os valores nulos serão transformados em valores vazios\n",
    "olist_order_reviews_dataset = olist_order_reviews_dataset.fillna('')"
   ]
  },
  {
   "cell_type": "markdown",
   "metadata": {},
   "source": [
    "transformando as colunas que contêm datas em timestamp"
   ]
  },
  {
   "cell_type": "code",
   "execution_count": 173,
   "metadata": {},
   "outputs": [
    {
     "name": "stdout",
     "output_type": "stream",
     "text": [
      "<class 'pandas.core.frame.DataFrame'>\n",
      "RangeIndex: 99224 entries, 0 to 99223\n",
      "Data columns (total 7 columns):\n",
      " #   Column                   Non-Null Count  Dtype         \n",
      "---  ------                   --------------  -----         \n",
      " 0   review_id                99224 non-null  object        \n",
      " 1   order_id                 99224 non-null  object        \n",
      " 2   review_score             99224 non-null  int64         \n",
      " 3   review_comment_title     99224 non-null  object        \n",
      " 4   review_comment_message   99224 non-null  object        \n",
      " 5   review_creation_date     99224 non-null  datetime64[ns]\n",
      " 6   review_answer_timestamp  99224 non-null  datetime64[ns]\n",
      "dtypes: datetime64[ns](2), int64(1), object(4)\n",
      "memory usage: 5.3+ MB\n"
     ]
    }
   ],
   "source": [
    "date_columns_reviews = [\n",
    "    'review_creation_date',\n",
    "    'review_answer_timestamp'\n",
    "]\n",
    "\n",
    "olist_order_reviews_dataset = transform_str_datetime(olist_order_reviews_dataset,date_columns_reviews)\n",
    "olist_order_reviews_dataset.info()"
   ]
  },
  {
   "cell_type": "markdown",
   "metadata": {},
   "source": [
    "### Verificação da tabela `olist_products_dataset`"
   ]
  },
  {
   "cell_type": "code",
   "execution_count": 65,
   "metadata": {},
   "outputs": [
    {
     "name": "stdout",
     "output_type": "stream",
     "text": [
      "<class 'pandas.core.frame.DataFrame'>\n",
      "RangeIndex: 32951 entries, 0 to 32950\n",
      "Data columns (total 9 columns):\n",
      " #   Column                      Non-Null Count  Dtype  \n",
      "---  ------                      --------------  -----  \n",
      " 0   product_id                  32951 non-null  object \n",
      " 1   product_category_name       32341 non-null  object \n",
      " 2   product_name_lenght         32341 non-null  float64\n",
      " 3   product_description_lenght  32341 non-null  float64\n",
      " 4   product_photos_qty          32341 non-null  float64\n",
      " 5   product_weight_g            32949 non-null  float64\n",
      " 6   product_length_cm           32949 non-null  float64\n",
      " 7   product_height_cm           32949 non-null  float64\n",
      " 8   product_width_cm            32949 non-null  float64\n",
      "dtypes: float64(7), object(2)\n",
      "memory usage: 2.3+ MB\n",
      "Colunas com valores nulos:\n",
      "product_id                      0\n",
      "product_category_name         610\n",
      "product_name_lenght           610\n",
      "product_description_lenght    610\n",
      "product_photos_qty            610\n",
      "product_weight_g                2\n",
      "product_length_cm               2\n",
      "product_height_cm               2\n",
      "product_width_cm                2\n",
      "dtype: int64\n",
      "Número de linhas duplicados: 0\n"
     ]
    },
    {
     "data": {
      "text/plain": [
       "(True, False)"
      ]
     },
     "execution_count": 65,
     "metadata": {},
     "output_type": "execute_result"
    }
   ],
   "source": [
    "olist_products_dataset.info()\n",
    "verify_duplicate_null(olist_products_dataset)"
   ]
  },
  {
   "cell_type": "code",
   "execution_count": 66,
   "metadata": {},
   "outputs": [],
   "source": [
    "# Não faz sentido um produto não possuir categoria, então irei remover as linhas nulas\n",
    "olist_products_dataset = olist_products_dataset.dropna()"
   ]
  },
  {
   "cell_type": "markdown",
   "metadata": {},
   "source": [
    "### Verificação da tabela `olist_sellers_dataset`"
   ]
  },
  {
   "cell_type": "code",
   "execution_count": 174,
   "metadata": {},
   "outputs": [
    {
     "name": "stdout",
     "output_type": "stream",
     "text": [
      "<class 'pandas.core.frame.DataFrame'>\n",
      "RangeIndex: 3095 entries, 0 to 3094\n",
      "Data columns (total 4 columns):\n",
      " #   Column                  Non-Null Count  Dtype \n",
      "---  ------                  --------------  ----- \n",
      " 0   seller_id               3095 non-null   object\n",
      " 1   seller_zip_code_prefix  3095 non-null   int64 \n",
      " 2   seller_city             3095 non-null   object\n",
      " 3   seller_state            3095 non-null   object\n",
      "dtypes: int64(1), object(3)\n",
      "memory usage: 96.8+ KB\n",
      "Colunas com valores nulos:\n",
      "seller_id                 0\n",
      "seller_zip_code_prefix    0\n",
      "seller_city               0\n",
      "seller_state              0\n",
      "dtype: int64\n",
      "Número de linhas duplicados: 0\n"
     ]
    },
    {
     "data": {
      "text/plain": [
       "(False, False)"
      ]
     },
     "execution_count": 174,
     "metadata": {},
     "output_type": "execute_result"
    }
   ],
   "source": [
    "olist_sellers_dataset.info()\n",
    "verify_duplicate_null(olist_sellers_dataset)"
   ]
  },
  {
   "cell_type": "markdown",
   "metadata": {},
   "source": [
    "### Verificação da tabela `olist_order_customer_dataset`"
   ]
  },
  {
   "cell_type": "code",
   "execution_count": 68,
   "metadata": {},
   "outputs": [
    {
     "name": "stdout",
     "output_type": "stream",
     "text": [
      "<class 'pandas.core.frame.DataFrame'>\n",
      "RangeIndex: 99441 entries, 0 to 99440\n",
      "Data columns (total 5 columns):\n",
      " #   Column                    Non-Null Count  Dtype \n",
      "---  ------                    --------------  ----- \n",
      " 0   customer_id               99441 non-null  object\n",
      " 1   customer_unique_id        99441 non-null  object\n",
      " 2   customer_zip_code_prefix  99441 non-null  int64 \n",
      " 3   customer_city             99441 non-null  object\n",
      " 4   customer_state            99441 non-null  object\n",
      "dtypes: int64(1), object(4)\n",
      "memory usage: 3.8+ MB\n",
      "Colunas com valores nulos:\n",
      "customer_id                 0\n",
      "customer_unique_id          0\n",
      "customer_zip_code_prefix    0\n",
      "customer_city               0\n",
      "customer_state              0\n",
      "dtype: int64\n",
      "Número de linhas duplicados: 0\n"
     ]
    },
    {
     "data": {
      "text/plain": [
       "(False, False)"
      ]
     },
     "execution_count": 68,
     "metadata": {},
     "output_type": "execute_result"
    }
   ],
   "source": [
    "olist_customers_dataset.info()\n",
    "verify_duplicate_null(olist_customers_dataset)"
   ]
  },
  {
   "cell_type": "markdown",
   "metadata": {},
   "source": [
    "### Verificação da tabela `olist_geolocation_dataset`"
   ]
  },
  {
   "cell_type": "code",
   "execution_count": 69,
   "metadata": {},
   "outputs": [
    {
     "name": "stdout",
     "output_type": "stream",
     "text": [
      "<class 'pandas.core.frame.DataFrame'>\n",
      "RangeIndex: 1000163 entries, 0 to 1000162\n",
      "Data columns (total 5 columns):\n",
      " #   Column                       Non-Null Count    Dtype  \n",
      "---  ------                       --------------    -----  \n",
      " 0   geolocation_zip_code_prefix  1000163 non-null  int64  \n",
      " 1   geolocation_lat              1000163 non-null  float64\n",
      " 2   geolocation_lng              1000163 non-null  float64\n",
      " 3   geolocation_city             1000163 non-null  object \n",
      " 4   geolocation_state            1000163 non-null  object \n",
      "dtypes: float64(2), int64(1), object(2)\n",
      "memory usage: 38.2+ MB\n",
      "Colunas com valores nulos:\n",
      "geolocation_zip_code_prefix    0\n",
      "geolocation_lat                0\n",
      "geolocation_lng                0\n",
      "geolocation_city               0\n",
      "geolocation_state              0\n",
      "dtype: int64\n",
      "Número de linhas duplicados: 261831\n"
     ]
    },
    {
     "data": {
      "text/plain": [
       "(False, True)"
      ]
     },
     "execution_count": 69,
     "metadata": {},
     "output_type": "execute_result"
    }
   ],
   "source": [
    "olist_geolocation_dataset.info()\n",
    "verify_duplicate_null(olist_geolocation_dataset)"
   ]
  },
  {
   "cell_type": "markdown",
   "metadata": {},
   "source": [
    "Removendo as linhas duplicadas"
   ]
  },
  {
   "cell_type": "code",
   "execution_count": 70,
   "metadata": {},
   "outputs": [
    {
     "name": "stdout",
     "output_type": "stream",
     "text": [
      "Colunas com valores nulos:\n",
      "geolocation_zip_code_prefix    0\n",
      "geolocation_lat                0\n",
      "geolocation_lng                0\n",
      "geolocation_city               0\n",
      "geolocation_state              0\n",
      "dtype: int64\n",
      "Número de linhas duplicados: 0\n"
     ]
    },
    {
     "data": {
      "text/plain": [
       "(False, False)"
      ]
     },
     "execution_count": 70,
     "metadata": {},
     "output_type": "execute_result"
    }
   ],
   "source": [
    "olist_geolocation_dataset = olist_geolocation_dataset.drop_duplicates()\n",
    "verify_duplicate_null(olist_geolocation_dataset)"
   ]
  },
  {
   "cell_type": "markdown",
   "metadata": {},
   "source": [
    "### Verificando integridade referencial"
   ]
  },
  {
   "cell_type": "code",
   "execution_count": 71,
   "metadata": {},
   "outputs": [],
   "source": [
    "def check_referential_integrity(primary_df: pd.DataFrame, secondary_df: pd.DataFrame, key_columns = []) ->  set:\n",
    "    # Find IDs that exist in secondary but not in primary\n",
    "    if len(key_columns)==1:\n",
    "        key_column = key_columns[0]\n",
    "        orphaned_ids = set(secondary_df[key_column]) - set(primary_df[key_column])\n",
    "    else:\n",
    "        orphaned_ids = set(secondary_df[key_columns[1]]) - set(primary_df[key_columns[0]])\n",
    "    print(f\"Checking referential integrity for {key_columns[0]}\")\n",
    "    print(f\"Total records in primary DataFrame: {len(primary_df)}\")\n",
    "    print(f\"Total records in secondary DataFrame: {len(secondary_df)}\")\n",
    "    print(f\"IDs that exist in secondary but not in primary: {len(orphaned_ids)}\")\n",
    "    if len(orphaned_ids) > 0:\n",
    "        print(\"Example of orphaned IDs:\",list(orphaned_ids)[:3])\n",
    "        return orphaned_ids\n",
    "    return set()"
   ]
  },
  {
   "cell_type": "code",
   "execution_count": 72,
   "metadata": {},
   "outputs": [
    {
     "name": "stdout",
     "output_type": "stream",
     "text": [
      "Checking referential integrity for customer_id\n",
      "Total records in primary DataFrame: 99441\n",
      "Total records in secondary DataFrame: 96461\n",
      "IDs that exist in secondary but not in primary: 0\n"
     ]
    },
    {
     "data": {
      "text/plain": [
       "set()"
      ]
     },
     "execution_count": 72,
     "metadata": {},
     "output_type": "execute_result"
    }
   ],
   "source": [
    "check_referential_integrity(olist_customers_dataset,olist_orders_dataset,['customer_id'])"
   ]
  },
  {
   "cell_type": "markdown",
   "metadata": {},
   "source": [
    "Considerando que não há inconsistência entre `olist_customers_dataset` e `olist_orders_dataset`, o próximo passo é verificar com as outras tabelas."
   ]
  },
  {
   "cell_type": "code",
   "execution_count": 73,
   "metadata": {},
   "outputs": [
    {
     "name": "stdout",
     "output_type": "stream",
     "text": [
      "Checking referential integrity for order_id\n",
      "Total records in primary DataFrame: 96461\n",
      "Total records in secondary DataFrame: 99224\n",
      "IDs that exist in secondary but not in primary: 2858\n",
      "Example of orphaned IDs: ['34b3d6f518fb789c443e4ec00f9bb0ce', 'b31a540b397cb096c3c5252eab692c9a', '5b0ee19a3125fc083348baa76d816ed0']\n"
     ]
    }
   ],
   "source": [
    "ids_reviews_orders = check_referential_integrity(olist_orders_dataset, olist_order_reviews_dataset,['order_id'])"
   ]
  },
  {
   "cell_type": "markdown",
   "metadata": {},
   "source": [
    "Excluindo as reviews orfãs do `olist_order_reviews_dataset`"
   ]
  },
  {
   "cell_type": "code",
   "execution_count": 74,
   "metadata": {},
   "outputs": [
    {
     "name": "stdout",
     "output_type": "stream",
     "text": [
      "Checking referential integrity for order_id\n",
      "Total records in primary DataFrame: 96461\n",
      "Total records in secondary DataFrame: 96344\n",
      "IDs that exist in secondary but not in primary: 0\n"
     ]
    },
    {
     "data": {
      "text/plain": [
       "set()"
      ]
     },
     "execution_count": 74,
     "metadata": {},
     "output_type": "execute_result"
    }
   ],
   "source": [
    "olist_order_reviews_dataset = olist_order_reviews_dataset[~olist_order_reviews_dataset['order_id'].isin(ids_reviews_orders)]\n",
    "check_referential_integrity(olist_orders_dataset, olist_order_reviews_dataset,['order_id'])"
   ]
  },
  {
   "cell_type": "markdown",
   "metadata": {},
   "source": [
    "Verificando inconsistências entre `olist_order_payments_dataset` e `olist_orders_dataset`"
   ]
  },
  {
   "cell_type": "code",
   "execution_count": 75,
   "metadata": {},
   "outputs": [
    {
     "name": "stdout",
     "output_type": "stream",
     "text": [
      "Checking referential integrity for order_id\n",
      "Total records in primary DataFrame: 96461\n",
      "Total records in secondary DataFrame: 103886\n",
      "IDs that exist in secondary but not in primary: 2980\n",
      "Example of orphaned IDs: ['34b3d6f518fb789c443e4ec00f9bb0ce', 'b31a540b397cb096c3c5252eab692c9a', '5b0ee19a3125fc083348baa76d816ed0']\n"
     ]
    }
   ],
   "source": [
    "ids_payments_orders = check_referential_integrity(olist_orders_dataset, olist_order_payments_dataset,['order_id'])"
   ]
  },
  {
   "cell_type": "code",
   "execution_count": 76,
   "metadata": {},
   "outputs": [
    {
     "name": "stdout",
     "output_type": "stream",
     "text": [
      "Checking referential integrity for order_id\n",
      "Total records in primary DataFrame: 96461\n",
      "Total records in secondary DataFrame: 100739\n",
      "IDs that exist in secondary but not in primary: 0\n"
     ]
    },
    {
     "data": {
      "text/plain": [
       "set()"
      ]
     },
     "execution_count": 76,
     "metadata": {},
     "output_type": "execute_result"
    }
   ],
   "source": [
    "olist_order_payments_dataset = olist_order_payments_dataset[~olist_order_payments_dataset['order_id'].isin(ids_payments_orders)]\n",
    "check_referential_integrity(olist_orders_dataset, olist_order_payments_dataset,['order_id'])"
   ]
  },
  {
   "cell_type": "markdown",
   "metadata": {},
   "source": [
    "Verificando inconsistências entre `olist_order_items_dataset` e `olist_orders_dataset`"
   ]
  },
  {
   "cell_type": "code",
   "execution_count": 77,
   "metadata": {},
   "outputs": [
    {
     "name": "stdout",
     "output_type": "stream",
     "text": [
      "Checking referential integrity for order_id\n",
      "Total records in primary DataFrame: 112650\n",
      "Total records in secondary DataFrame: 96461\n",
      "IDs that exist in secondary but not in primary: 0\n"
     ]
    },
    {
     "data": {
      "text/plain": [
       "set()"
      ]
     },
     "execution_count": 77,
     "metadata": {},
     "output_type": "execute_result"
    }
   ],
   "source": [
    "check_referential_integrity(olist_order_items_dataset,olist_orders_dataset,['order_id'])"
   ]
  },
  {
   "cell_type": "markdown",
   "metadata": {},
   "source": [
    "Verificando inconsistências entre `olist_order_items_dataset` e `olist_products_dataset`"
   ]
  },
  {
   "cell_type": "code",
   "execution_count": 78,
   "metadata": {},
   "outputs": [
    {
     "name": "stdout",
     "output_type": "stream",
     "text": [
      "Checking referential integrity for product_id\n",
      "Total records in primary DataFrame: 32340\n",
      "Total records in secondary DataFrame: 112650\n",
      "IDs that exist in secondary but not in primary: 611\n",
      "Example of orphaned IDs: ['212b9c1a73834eeae7694906e168edc6', '1bd0e965122ea1485d8f7f0c6792ebe0', '2ddbeb76f134690c05636162f2558594']\n"
     ]
    }
   ],
   "source": [
    "ids_items_product =  check_referential_integrity(olist_products_dataset,olist_order_items_dataset,['product_id'])"
   ]
  },
  {
   "cell_type": "code",
   "execution_count": 79,
   "metadata": {},
   "outputs": [
    {
     "name": "stdout",
     "output_type": "stream",
     "text": [
      "Checking referential integrity for product_id\n",
      "Total records in primary DataFrame: 32340\n",
      "Total records in secondary DataFrame: 111046\n",
      "IDs that exist in secondary but not in primary: 0\n"
     ]
    },
    {
     "data": {
      "text/plain": [
       "set()"
      ]
     },
     "execution_count": 79,
     "metadata": {},
     "output_type": "execute_result"
    }
   ],
   "source": [
    "olist_order_items_dataset = olist_order_items_dataset[~olist_order_items_dataset['product_id'].isin(ids_items_product)]\n",
    "check_referential_integrity(olist_products_dataset,olist_order_items_dataset,['product_id'])"
   ]
  },
  {
   "cell_type": "markdown",
   "metadata": {},
   "source": [
    "Verificando inconsistências entre `olist_order_items_dataset` e `olist_sellers_dataset`"
   ]
  },
  {
   "cell_type": "code",
   "execution_count": 80,
   "metadata": {},
   "outputs": [
    {
     "name": "stdout",
     "output_type": "stream",
     "text": [
      "Checking referential integrity for seller_id\n",
      "Total records in primary DataFrame: 3095\n",
      "Total records in secondary DataFrame: 111046\n",
      "IDs that exist in secondary but not in primary: 0\n"
     ]
    },
    {
     "data": {
      "text/plain": [
       "set()"
      ]
     },
     "execution_count": 80,
     "metadata": {},
     "output_type": "execute_result"
    }
   ],
   "source": [
    "check_referential_integrity(olist_sellers_dataset,olist_order_items_dataset,['seller_id'])"
   ]
  },
  {
   "cell_type": "markdown",
   "metadata": {},
   "source": [
    "Verificando inconsistências entre `olist_sellers_dataset` e `olist_geolocation_dataset`"
   ]
  },
  {
   "cell_type": "code",
   "execution_count": 81,
   "metadata": {},
   "outputs": [
    {
     "name": "stdout",
     "output_type": "stream",
     "text": [
      "Index(['geolocation_zip_code_prefix', 'geolocation_lat', 'geolocation_lng',\n",
      "       'geolocation_city', 'geolocation_state'],\n",
      "      dtype='object')\n",
      "Index(['seller_id', 'seller_zip_code_prefix', 'seller_city', 'seller_state'], dtype='object')\n"
     ]
    }
   ],
   "source": [
    "print(olist_geolocation_dataset.columns)\n",
    "print(olist_sellers_dataset.columns)"
   ]
  },
  {
   "cell_type": "code",
   "execution_count": 82,
   "metadata": {},
   "outputs": [
    {
     "name": "stdout",
     "output_type": "stream",
     "text": [
      "Checking referential integrity for geolocation_zip_code_prefix\n",
      "Total records in primary DataFrame: 738332\n",
      "Total records in secondary DataFrame: 3095\n",
      "IDs that exist in secondary but not in primary: 7\n",
      "Example of orphaned IDs: [72580, 37708, 2285]\n"
     ]
    }
   ],
   "source": [
    "ids_zip_code = check_referential_integrity(olist_geolocation_dataset,olist_sellers_dataset,['geolocation_zip_code_prefix','seller_zip_code_prefix'])"
   ]
  },
  {
   "cell_type": "code",
   "execution_count": 83,
   "metadata": {},
   "outputs": [
    {
     "name": "stdout",
     "output_type": "stream",
     "text": [
      "Checking referential integrity for geolocation_zip_code_prefix\n",
      "Total records in primary DataFrame: 738332\n",
      "Total records in secondary DataFrame: 3088\n",
      "IDs that exist in secondary but not in primary: 0\n"
     ]
    },
    {
     "data": {
      "text/plain": [
       "set()"
      ]
     },
     "execution_count": 83,
     "metadata": {},
     "output_type": "execute_result"
    }
   ],
   "source": [
    "olist_sellers_dataset = olist_sellers_dataset[~olist_sellers_dataset['seller_zip_code_prefix'].isin(ids_zip_code)]\n",
    "check_referential_integrity(olist_geolocation_dataset,olist_sellers_dataset,['geolocation_zip_code_prefix','seller_zip_code_prefix'])"
   ]
  },
  {
   "cell_type": "markdown",
   "metadata": {},
   "source": [
    "Verificando inconsistências entre  `olist_geolocation_dataset` e `olist_customers_dataset`"
   ]
  },
  {
   "cell_type": "code",
   "execution_count": 84,
   "metadata": {},
   "outputs": [
    {
     "data": {
      "text/plain": [
       "Index(['customer_id', 'customer_unique_id', 'customer_zip_code_prefix',\n",
       "       'customer_city', 'customer_state'],\n",
       "      dtype='object')"
      ]
     },
     "execution_count": 84,
     "metadata": {},
     "output_type": "execute_result"
    }
   ],
   "source": [
    "olist_customers_dataset.columns"
   ]
  },
  {
   "cell_type": "code",
   "execution_count": 85,
   "metadata": {},
   "outputs": [
    {
     "name": "stdout",
     "output_type": "stream",
     "text": [
      "Checking referential integrity for geolocation_zip_code_prefix\n",
      "Total records in primary DataFrame: 738332\n",
      "Total records in secondary DataFrame: 99441\n",
      "IDs that exist in secondary but not in primary: 157\n",
      "Example of orphaned IDs: [28160, 56327, 75784]\n"
     ]
    }
   ],
   "source": [
    "ids_zip_code_customer = check_referential_integrity(olist_geolocation_dataset,olist_customers_dataset,['geolocation_zip_code_prefix','customer_zip_code_prefix'])"
   ]
  },
  {
   "cell_type": "code",
   "execution_count": 86,
   "metadata": {},
   "outputs": [
    {
     "name": "stdout",
     "output_type": "stream",
     "text": [
      "Checking referential integrity for geolocation_zip_code_prefix\n",
      "Total records in primary DataFrame: 738332\n",
      "Total records in secondary DataFrame: 99163\n",
      "IDs that exist in secondary but not in primary: 0\n"
     ]
    },
    {
     "data": {
      "text/plain": [
       "set()"
      ]
     },
     "execution_count": 86,
     "metadata": {},
     "output_type": "execute_result"
    }
   ],
   "source": [
    "olist_customers_dataset = olist_customers_dataset[~olist_customers_dataset['customer_zip_code_prefix'].isin(ids_zip_code_customer)]\n",
    "check_referential_integrity(olist_geolocation_dataset,olist_customers_dataset,['geolocation_zip_code_prefix','customer_zip_code_prefix'])"
   ]
  },
  {
   "cell_type": "markdown",
   "metadata": {},
   "source": [
    "### Relacionamentos entre tabelas"
   ]
  },
  {
   "cell_type": "code",
   "execution_count": 93,
   "metadata": {},
   "outputs": [
    {
     "name": "stdout",
     "output_type": "stream",
     "text": [
      "Index(['order_id', 'customer_id', 'order_status', 'order_purchase_timestamp',\n",
      "       'order_approved_at', 'order_delivered_carrier_date',\n",
      "       'order_delivered_customer_date', 'order_estimated_delivery_date'],\n",
      "      dtype='object')\n",
      "Index(['review_id', 'order_id', 'review_score', 'review_comment_title',\n",
      "       'review_comment_message', 'review_creation_date',\n",
      "       'review_answer_timestamp'],\n",
      "      dtype='object')\n"
     ]
    }
   ],
   "source": [
    "print(olist_orders_dataset.columns)\n",
    "print(olist_order_reviews_dataset.columns)"
   ]
  },
  {
   "cell_type": "code",
   "execution_count": 177,
   "metadata": {},
   "outputs": [
    {
     "name": "stdout",
     "output_type": "stream",
     "text": [
      "orders + review: 96344\n",
      "orders:96461\n"
     ]
    }
   ],
   "source": [
    "df_orders = pd.merge(olist_orders_dataset,olist_order_reviews_dataset,\n",
    "                    on='order_id',how='inner')\n",
    "print(f'orders + review: {len(df_orders)}')\n",
    "print(f'orders:{len(olist_orders_dataset)}')"
   ]
  }
 ],
 "metadata": {
  "kernelspec": {
   "display_name": "pytorch_env",
   "language": "python",
   "name": "python3"
  },
  "language_info": {
   "codemirror_mode": {
    "name": "ipython",
    "version": 3
   },
   "file_extension": ".py",
   "mimetype": "text/x-python",
   "name": "python",
   "nbconvert_exporter": "python",
   "pygments_lexer": "ipython3",
   "version": "3.12.7"
  }
 },
 "nbformat": 4,
 "nbformat_minor": 2
}
